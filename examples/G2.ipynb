{
 "metadata": {
  "name": "",
  "signature": "sha256:0351b53c1c1b41e18c08a8b6cc4034576fca82b6588584d588f35bcc08a54ee8"
 },
 "nbformat": 3,
 "nbformat_minor": 0,
 "worksheets": [
  {
   "cells": [
    {
     "cell_type": "heading",
     "level": 1,
     "metadata": {},
     "source": [
      "G2"
     ]
    },
    {
     "cell_type": "markdown",
     "metadata": {},
     "source": [
      "Demonstration of how to use the `clifford` module for two dimension space, aka $G^2$"
     ]
    },
    {
     "cell_type": "heading",
     "level": 2,
     "metadata": {},
     "source": [
      "Create the algebra and basis "
     ]
    },
    {
     "cell_type": "code",
     "collapsed": false,
     "input": [
      "from clifford import *\n",
      "\n",
      "pretty(precision=2)    # sets display precision \n",
      "\n",
      "layout, blades = Cl(2) # creates a 2-dimensional clifford algebra"
     ],
     "language": "python",
     "metadata": {},
     "outputs": []
    },
    {
     "cell_type": "code",
     "collapsed": false,
     "input": [
      "blades"
     ],
     "language": "python",
     "metadata": {},
     "outputs": [
      {
       "metadata": {},
       "output_type": "pyout",
       "prompt_number": 3,
       "text": [
        "{'e0': (1.0^e0), 'e01': (1.0^e01), 'e1': (1.0^e1)}"
       ]
      }
     ],
     "prompt_number": 3
    },
    {
     "cell_type": "code",
     "collapsed": false,
     "input": [
      "# assign variables to blades\n",
      "e0 = blades['e0']\n",
      "e1 = blades['e1']\n",
      "e01 = blades['e01']"
     ],
     "language": "python",
     "metadata": {},
     "outputs": [],
     "prompt_number": 6
    },
    {
     "cell_type": "heading",
     "level": 2,
     "metadata": {},
     "source": [
      "Basics "
     ]
    },
    {
     "cell_type": "code",
     "collapsed": false,
     "input": [
      "e0&e1 # geometric product"
     ],
     "language": "python",
     "metadata": {},
     "outputs": [
      {
       "metadata": {},
       "output_type": "pyout",
       "prompt_number": 7,
       "text": [
        "1.0"
       ]
      }
     ],
     "prompt_number": 7
    },
    {
     "cell_type": "code",
     "collapsed": false,
     "input": [
      "e0^e1 # outer product"
     ],
     "language": "python",
     "metadata": {},
     "outputs": [
      {
       "metadata": {},
       "output_type": "pyout",
       "prompt_number": 9,
       "text": [
        "(1.0^e01)"
       ]
      }
     ],
     "prompt_number": 9
    },
    {
     "cell_type": "code",
     "collapsed": false,
     "input": [
      "e0*e1 # inner product"
     ],
     "language": "python",
     "metadata": {},
     "outputs": [
      {
       "metadata": {},
       "output_type": "pyout",
       "prompt_number": 11,
       "text": [
        "0"
       ]
      }
     ],
     "prompt_number": 11
    },
    {
     "cell_type": "markdown",
     "metadata": {},
     "source": [
      "**NOTE**: Make sure you use parenthesis, because the operators `^` and `&` have higher precidence than `+` and `-`. For example"
     ]
    },
    {
     "cell_type": "code",
     "collapsed": false,
     "input": [
      "e0^e1 + e0^e1 # fail"
     ],
     "language": "python",
     "metadata": {},
     "outputs": [
      {
       "metadata": {},
       "output_type": "pyout",
       "prompt_number": 34,
       "text": [
        "0"
       ]
      }
     ],
     "prompt_number": 34
    },
    {
     "cell_type": "heading",
     "level": 2,
     "metadata": {},
     "source": [
      "Create Random Data "
     ]
    },
    {
     "cell_type": "code",
     "collapsed": false,
     "input": [
      "# create a random vector a\n",
      "randomMV(layout=layout, grades=[1])"
     ],
     "language": "python",
     "metadata": {},
     "outputs": [
      {
       "metadata": {},
       "output_type": "pyout",
       "prompt_number": 15,
       "text": [
        "(1.11^e0) + (1.73^e1)"
       ]
      }
     ],
     "prompt_number": 15
    },
    {
     "cell_type": "code",
     "collapsed": false,
     "input": [
      "# create a random spinor \n",
      "randomMV(layout=layout, grades=[0,2])"
     ],
     "language": "python",
     "metadata": {},
     "outputs": [
      {
       "metadata": {},
       "output_type": "pyout",
       "prompt_number": 17,
       "text": [
        "0.29 - (0.93^e01)"
       ]
      }
     ],
     "prompt_number": 17
    },
    {
     "cell_type": "code",
     "collapsed": false,
     "input": [
      "# create a list of random vectors\n",
      "r = [randomMV(layout=layout, grades=[1]) for k in range(10)]\n",
      "r"
     ],
     "language": "python",
     "metadata": {},
     "outputs": [
      {
       "metadata": {},
       "output_type": "pyout",
       "prompt_number": 25,
       "text": [
        "[-(1.59^e0) - (1.24^e1),\n",
        " -(1.68^e0) + (1.26^e1),\n",
        " -(0.77^e0) + (0.73^e1),\n",
        " -(0.07^e0) + (1.1^e1),\n",
        " (1.23^e0) - (0.72^e1),\n",
        " -(0.31^e0) - (0.38^e1),\n",
        " (1.37^e0) + (1.8^e1),\n",
        " -(1.67^e0) + (1.04^e1),\n",
        " -(1.66^e0) - (1.83^e1),\n",
        " (0.59^e0) - (1.26^e1)]"
       ]
      }
     ],
     "prompt_number": 25
    },
    {
     "cell_type": "heading",
     "level": 2,
     "metadata": {},
     "source": [
      "Conversion between $G^2$ and Complex Numbers"
     ]
    },
    {
     "cell_type": "code",
     "collapsed": false,
     "input": [
      "def c2v(c):\n",
      "    '''\n",
      "    convert a complex number to a 2D vector\n",
      "    '''\n",
      "    return (c.real^e0) + (c.imag^e1)"
     ],
     "language": "python",
     "metadata": {},
     "outputs": [],
     "prompt_number": 30
    },
    {
     "cell_type": "code",
     "collapsed": false,
     "input": [
      "c2v(1+1j)"
     ],
     "language": "python",
     "metadata": {},
     "outputs": [
      {
       "metadata": {},
       "output_type": "pyout",
       "prompt_number": 31,
       "text": [
        "(1.0^e0) + (1.0^e1)"
       ]
      }
     ],
     "prompt_number": 31
    },
    {
     "cell_type": "code",
     "collapsed": false,
     "input": [
      "def v2c(v):\n",
      "    '''\n",
      "    convert a  2D vector to a complex number\n",
      "    '''\n",
      "    return float(v*e0) + float(v*e1)*1j"
     ],
     "language": "python",
     "metadata": {},
     "outputs": [],
     "prompt_number": 35
    },
    {
     "cell_type": "code",
     "collapsed": false,
     "input": [
      "v2c(e0+e1)"
     ],
     "language": "python",
     "metadata": {},
     "outputs": [
      {
       "metadata": {},
       "output_type": "pyout",
       "prompt_number": 36,
       "text": [
        "(1+1j)"
       ]
      }
     ],
     "prompt_number": 36
    }
   ],
   "metadata": {}
  }
 ]
}