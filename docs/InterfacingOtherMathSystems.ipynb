{
 "cells": [
  {
   "cell_type": "markdown",
   "metadata": {},
   "source": [
    "# Interfacing Other Mathematical Systems\n"
   ]
  },
  {
   "cell_type": "markdown",
   "metadata": {},
   "source": [
    "Geometric Algebra is known as a *universal algebra* because it subsumes several other mathematical systems. Two algebras commonly used by engineers and scientists are complex numbers and quaternions. These algebras can be subsumed as the even sub-algebras of 2 and 3 dimensional geometric algebras, respectively. This notebook demonstrates how  `clifford` can be used to incorperate data created with these systems into  geometric algebra."
   ]
  },
  {
   "cell_type": "markdown",
   "metadata": {},
   "source": [
    "##  Complex Numbers"
   ]
  },
  {
   "cell_type": "markdown",
   "metadata": {},
   "source": [
    "Given a two dimensional GA with the orthonormal basis,\n",
    "\n",
    "$$e_{i}\\cdot e_{j}=\\delta_{ij}$$\n",
    " \n",
    "\n",
    "The geometric algebra consists of scalars, two vectors, and a bivector , \n",
    "\n",
    "$$\\{\\underbrace{\\alpha}_{\\mbox{scalar}},\\qquad\\underbrace{e_{1},e_{2}}_{\\mbox{vector}},\\qquad\\underbrace{e_{12}}_{\\mbox{bivector}}\\}$$\n",
    " \n",
    "\n",
    "\n",
    "A complex number can be directly associated with a 2D spinor in the $e_{12}$\n",
    " -plane, \n",
    "\n",
    "$$\\underbrace{\\mathbf{z}=\\alpha+\\beta i}_{\\mbox{complex number}}\\quad\\Longrightarrow\\quad\\underbrace{Z=\\alpha+\\beta e_{12}}_{\\mbox{2D spinor}}$$\n",
    "\n",
    "\n",
    " \n",
    "The even subalgebra of a two dimensional geometric algebra is isomorphic to the complex numbers.  We can setup translating functions  which converts a 2D spinor into a complex number and vice-versa. In two dimensions the spinor can be also be mapped into vectors if desired. \n",
    "\n",
    "Below is an illustation of the three different planes, the later two being contained within the geometric algbera of two dimensions, $G_2$. Both spinors and vectors in $G_2$ can be modeled as points on a plane, but they have distinct algebraic properties. "
   ]
  },
  {
   "cell_type": "code",
   "execution_count": 6,
   "metadata": {
    "collapsed": false
   },
   "outputs": [
    {
     "data": {
      "text/html": [
       "<img src=\"_static/2dmap.svg\"/>"
      ],
      "text/plain": [
       "<IPython.core.display.Image object>"
      ]
     },
     "execution_count": 6,
     "metadata": {},
     "output_type": "execute_result"
    }
   ],
   "source": [
    "from IPython.display import Image\n",
    "Image(url='_static/2dmap.svg')"
   ]
  },
  {
   "cell_type": "code",
   "execution_count": 1,
   "metadata": {
    "collapsed": false
   },
   "outputs": [],
   "source": [
    "import clifford as cf\n",
    "layout, blades = cf.Cl(2) # instantiate a 2D- GA\n",
    "locals().update(blades)   # put all blades into local namespace\n",
    "\n",
    "\n",
    "def c2s(z):\n",
    "    '''convert a complex number to a spinor'''\n",
    "    return z.real + z.imag*e12\n",
    "\n",
    "def s2c(S):\n",
    "    '''convert a spinor to a complex number'''\n",
    "    S0 = float(S(0))\n",
    "    S2 = float(-S|e12)\n",
    "    return S0 + S2*1j\n"
   ]
  },
  {
   "cell_type": "markdown",
   "metadata": {},
   "source": [
    "Convert a complex number to a spinor "
   ]
  },
  {
   "cell_type": "code",
   "execution_count": 2,
   "metadata": {
    "collapsed": false
   },
   "outputs": [
    {
     "data": {
      "text/plain": [
       "1.0 + (2.0^e12)"
      ]
     },
     "execution_count": 2,
     "metadata": {},
     "output_type": "execute_result"
    }
   ],
   "source": [
    "c2s(1+2j)"
   ]
  },
  {
   "cell_type": "markdown",
   "metadata": {},
   "source": [
    "Convert a spinor to a complex number"
   ]
  },
  {
   "cell_type": "code",
   "execution_count": 146,
   "metadata": {
    "collapsed": false
   },
   "outputs": [
    {
     "data": {
      "text/plain": [
       "(1+2j)"
      ]
     },
     "execution_count": 146,
     "metadata": {},
     "output_type": "execute_result"
    }
   ],
   "source": [
    "s2c(1+2*e12)"
   ]
  },
  {
   "cell_type": "markdown",
   "metadata": {},
   "source": [
    "Make sure we get what we started with when we make a round trip"
   ]
  },
  {
   "cell_type": "code",
   "execution_count": 147,
   "metadata": {
    "collapsed": false
   },
   "outputs": [
    {
     "data": {
      "text/plain": [
       "True"
      ]
     },
     "execution_count": 147,
     "metadata": {},
     "output_type": "execute_result"
    }
   ],
   "source": [
    "s2c(c2s(1+2j)) == 1+2j"
   ]
  },
  {
   "cell_type": "markdown",
   "metadata": {},
   "source": [
    "The spinor is then mapped to a vector by choosing a reference direction. This may be done by left multiplying with $e_{1}$\n",
    " .\n",
    "\n",
    "$$Z\\Longrightarrow e_{1}Z=e_{1}\\alpha+\\beta e_{1}e_{12}=\\underbrace{\\alpha e_{1}+\\beta e_{2}}_{\\mbox{vector}}$$"
   ]
  },
  {
   "cell_type": "code",
   "execution_count": 148,
   "metadata": {
    "collapsed": false
   },
   "outputs": [
    {
     "data": {
      "text/plain": [
       "(1.0^e1) + (2.0^e2)"
      ]
     },
     "execution_count": 148,
     "metadata": {},
     "output_type": "execute_result"
    }
   ],
   "source": [
    "s = 1+2*e12\n",
    "e1*s"
   ]
  },
  {
   "cell_type": "markdown",
   "metadata": {},
   "source": [
    "Geometrically, this is interpreted as  having the spinor rotate a specific vector, in this case $e_1$. Building off of the previously defined functions"
   ]
  },
  {
   "cell_type": "code",
   "execution_count": 149,
   "metadata": {
    "collapsed": true
   },
   "outputs": [],
   "source": [
    "def c2v(c):\n",
    "    '''convert a complex number to a vector'''\n",
    "    return e1*c2s(c)\n",
    "\n",
    "def v2c(v):\n",
    "    '''convert a vector to a complex number'''\n",
    "    return s2c(e1*v)  "
   ]
  },
  {
   "cell_type": "code",
   "execution_count": 150,
   "metadata": {
    "collapsed": false
   },
   "outputs": [
    {
     "data": {
      "text/plain": [
       "(1.0^e1) + (2.0^e2)"
      ]
     },
     "execution_count": 150,
     "metadata": {},
     "output_type": "execute_result"
    }
   ],
   "source": [
    "c2v(1+2j)"
   ]
  },
  {
   "cell_type": "code",
   "execution_count": 151,
   "metadata": {
    "collapsed": false
   },
   "outputs": [
    {
     "data": {
      "text/plain": [
       "(1+2j)"
      ]
     },
     "execution_count": 151,
     "metadata": {},
     "output_type": "execute_result"
    }
   ],
   "source": [
    "v2c(1*e1+2*e2)"
   ]
  },
  {
   "cell_type": "markdown",
   "metadata": {},
   "source": [
    "Depending on your applications, you may wish to have the bivector be an argument to the `c2s` and `s2c` functions.  This allows you to map input data given in the form of complex number onto the planes of your choice. For example, in three dimensional space there are three bivector-planes; $e_{12}, e_{23}$ and $e_{13}$, so there are many bivectors which could be interepreted as the unit imaginary. \n",
    "\n",
    "Complex numbers mapped in this way can be used to enact rotations within the specified planes. "
   ]
  },
  {
   "cell_type": "code",
   "execution_count": 3,
   "metadata": {
    "collapsed": true
   },
   "outputs": [],
   "source": [
    "\n",
    "import clifford as cf\n",
    "layout, blades = cf.Cl(3)\n",
    "locals().update(blades)\n",
    "\n",
    "def c2s(z,B):\n",
    "    '''convert a complex number to a spinor'''\n",
    "    return z.real + z.imag*B\n",
    "\n",
    "def s2c(S,B):\n",
    "    '''convert a spinor to a complex number'''\n",
    "    S0 = float(S(0))\n",
    "    S2 = float(-S|B)\n",
    "    return S0 + S2*1j"
   ]
  },
  {
   "cell_type": "code",
   "execution_count": 4,
   "metadata": {
    "collapsed": false
   },
   "outputs": [
    {
     "data": {
      "text/plain": [
       "1.0 + (2.0^e23)"
      ]
     },
     "execution_count": 4,
     "metadata": {},
     "output_type": "execute_result"
    }
   ],
   "source": [
    "c2s(1+2j,e23)"
   ]
  },
  {
   "cell_type": "code",
   "execution_count": 5,
   "metadata": {
    "collapsed": false
   },
   "outputs": [
    {
     "data": {
      "text/plain": [
       "3.0 + (4.0^e13)"
      ]
     },
     "execution_count": 5,
     "metadata": {},
     "output_type": "execute_result"
    }
   ],
   "source": [
    "c2s(3+4j,e13)"
   ]
  },
  {
   "cell_type": "markdown",
   "metadata": {},
   "source": [
    "This brings us to the subject of quaternions, which are used to handle rotations in three dimensions much like complex numbers do in two dimensions.  With geometric algebra, they are just spinors acting in a different geometry. "
   ]
  },
  {
   "cell_type": "markdown",
   "metadata": {},
   "source": [
    "## Quaternions"
   ]
  },
  {
   "cell_type": "markdown",
   "metadata": {},
   "source": [
    "\n",
    "<div class=\"alert alert-info\">\n",
    "\n",
    "**Note:**\n",
    "\n",
    "There is support for quaternions in numpy through the package [quaternion](https://github.com/moble/quaternion).\n",
    "\n",
    "</div>\n"
   ]
  },
  {
   "cell_type": "markdown",
   "metadata": {},
   "source": [
    "For some reason people think quaternions ([wiki page](https://en.wikipedia.org/wiki/Quaternion)) are mystical or something.  They are  just spinors in a three dimensional geometric algebra.\n",
    "\n",
    "In either case, we can pass the `names` parameters to `Cl()` to explicitly label the bivectors `i,j,` and `k`."
   ]
  },
  {
   "cell_type": "code",
   "execution_count": 6,
   "metadata": {
    "collapsed": false
   },
   "outputs": [],
   "source": [
    "import clifford as cf\n",
    "\n",
    "# the vector/bivector order is reversed because Hamilton defined quaternions using a\n",
    "# left handed frame. wtf.\n",
    "names = ['','z','y','x','k','j','i','I'] \n",
    "\n",
    "layout, blades = cf.Cl(3, names=names)\n",
    "locals().update(blades)\n"
   ]
  },
  {
   "cell_type": "markdown",
   "metadata": {},
   "source": [
    "This leads to the commutations relations familiar to quaternion users"
   ]
  },
  {
   "cell_type": "code",
   "execution_count": 7,
   "metadata": {
    "collapsed": false
   },
   "outputs": [
    {
     "name": "stdout",
     "output_type": "stream",
     "text": [
      "(1.0^i)*(1.0^i)= -1.0\n",
      "(1.0^i)*(1.0^j)= (1.0^k)\n",
      "(1.0^i)*(1.0^k)= -(1.0^j)\n",
      "(1.0^j)*(1.0^i)= -(1.0^k)\n",
      "(1.0^j)*(1.0^j)= -1.0\n",
      "(1.0^j)*(1.0^k)= (1.0^i)\n",
      "(1.0^k)*(1.0^i)= (1.0^j)\n",
      "(1.0^k)*(1.0^j)= -(1.0^i)\n",
      "(1.0^k)*(1.0^k)= -1.0\n"
     ]
    }
   ],
   "source": [
    "for m in [i,j,k]:\n",
    "    for n in [i,j,k]:\n",
    "        print ('%s*%s='%(str(m),str(n))),\n",
    "        print m*n\n",
    "                        "
   ]
  },
  {
   "cell_type": "markdown",
   "metadata": {},
   "source": [
    "Quaternion data could be stored in a variety of ways. Assuming you have the scalar components for the quaternion, all you will need to do is setup a map each component to the correct bivector. "
   ]
  },
  {
   "cell_type": "code",
   "execution_count": 8,
   "metadata": {
    "collapsed": true
   },
   "outputs": [],
   "source": [
    "def q2S(*args):\n",
    "    '''\n",
    "    convert tuple of quaternion coefficients to a spinor'''\n",
    "    q = args\n",
    "    return q[0] + q[1]*i +q[2]*j + q[3]*k "
   ]
  },
  {
   "cell_type": "markdown",
   "metadata": {},
   "source": [
    "Then all the quaternion computations can be done using GA"
   ]
  },
  {
   "cell_type": "code",
   "execution_count": 9,
   "metadata": {
    "collapsed": false
   },
   "outputs": [
    {
     "data": {
      "text/plain": [
       "1.0 + (4.0^k) + (3.0^j) + (2.0^i)"
      ]
     },
     "execution_count": 9,
     "metadata": {},
     "output_type": "execute_result"
    }
   ],
   "source": [
    "q1 = q2S(1,2,3,4)\n",
    "q1"
   ]
  },
  {
   "cell_type": "markdown",
   "metadata": {},
   "source": [
    "This prints $i,j$ and $k$ in reverse order but whatever, "
   ]
  },
  {
   "cell_type": "code",
   "execution_count": 10,
   "metadata": {
    "collapsed": false
   },
   "outputs": [
    {
     "data": {
      "text/plain": [
       "1.0"
      ]
     },
     "execution_count": 10,
     "metadata": {},
     "output_type": "execute_result"
    }
   ],
   "source": [
    "# 'scalar' part \n",
    "q1(0)"
   ]
  },
  {
   "cell_type": "code",
   "execution_count": 11,
   "metadata": {
    "collapsed": false
   },
   "outputs": [
    {
     "data": {
      "text/plain": [
       "(4.0^k) + (3.0^j) + (2.0^i)"
      ]
     },
     "execution_count": 11,
     "metadata": {},
     "output_type": "execute_result"
    }
   ],
   "source": [
    "# 'vector' part (more like bivector part!)\n",
    "q1(2)"
   ]
  },
  {
   "cell_type": "markdown",
   "metadata": {},
   "source": [
    "*quaternion conjugation* is implemented with reversion "
   ]
  },
  {
   "cell_type": "code",
   "execution_count": 12,
   "metadata": {
    "collapsed": false
   },
   "outputs": [
    {
     "data": {
      "text/plain": [
       "1.0 - (4.0^k) - (3.0^j) - (2.0^i)"
      ]
     },
     "execution_count": 12,
     "metadata": {},
     "output_type": "execute_result"
    }
   ],
   "source": [
    "~q1"
   ]
  },
  {
   "cell_type": "markdown",
   "metadata": {},
   "source": [
    "The norm"
   ]
  },
  {
   "cell_type": "code",
   "execution_count": 19,
   "metadata": {
    "collapsed": false
   },
   "outputs": [
    {
     "data": {
      "text/plain": [
       "5.4772255750516612"
      ]
     },
     "execution_count": 19,
     "metadata": {},
     "output_type": "execute_result"
    }
   ],
   "source": [
    "abs(q1) "
   ]
  },
  {
   "cell_type": "markdown",
   "metadata": {},
   "source": [
    "Taking the `dual()` of the \"vector\" part actually returns a vector,"
   ]
  },
  {
   "cell_type": "code",
   "execution_count": 12,
   "metadata": {
    "collapsed": false
   },
   "outputs": [
    {
     "data": {
      "text/plain": [
       "(2.0^z) - (3.0^y) + (4.0^x)"
      ]
     },
     "execution_count": 12,
     "metadata": {},
     "output_type": "execute_result"
    }
   ],
   "source": [
    "q1(2).dual()"
   ]
  },
  {
   "cell_type": "code",
   "execution_count": 11,
   "metadata": {
    "collapsed": false
   },
   "outputs": [
    {
     "data": {
      "text/plain": [
       "-60.0 + (24.0^k) + (30.0^j) + (12.0^i)"
      ]
     },
     "execution_count": 11,
     "metadata": {},
     "output_type": "execute_result"
    }
   ],
   "source": [
    "q1 = q2S(1,2,3,4)\n",
    "q2 = q2S(5,6,7,8)\n",
    "\n",
    "# quaternion product\n",
    "q1*q2"
   ]
  },
  {
   "cell_type": "markdown",
   "metadata": {},
   "source": [
    "If you want to keep using a left-handed frame and  names like $i,j$ and $k$ to label the planes in 3D space, ok.  If you think it makes more sense to use the consistent and transparent approach provided by GA, we think you have good taste. If we make this switch, the basis and `q2S()` functions will be changed to "
   ]
  },
  {
   "cell_type": "code",
   "execution_count": 3,
   "metadata": {
    "collapsed": false
   },
   "outputs": [
    {
     "data": {
      "text/plain": [
       "{'e1': (1.0^e1),\n",
       " 'e12': (1.0^e12),\n",
       " 'e123': (1.0^e123),\n",
       " 'e13': (1.0^e13),\n",
       " 'e2': (1.0^e2),\n",
       " 'e23': (1.0^e23),\n",
       " 'e3': (1.0^e3)}"
      ]
     },
     "execution_count": 3,
     "metadata": {},
     "output_type": "execute_result"
    }
   ],
   "source": [
    "import clifford as cf\n",
    "layout, blades = cf.Cl(3)\n",
    "locals().update(blades)\n",
    "\n",
    "blades"
   ]
  },
  {
   "cell_type": "code",
   "execution_count": 4,
   "metadata": {
    "collapsed": false
   },
   "outputs": [
    {
     "data": {
      "text/plain": [
       "1.0 + (4.0^e12) + (2.0^e13) + (3.0^e23)"
      ]
     },
     "execution_count": 4,
     "metadata": {},
     "output_type": "execute_result"
    }
   ],
   "source": [
    "\n",
    "\n",
    "def q2S(*args):\n",
    "    '''\n",
    "    convert tuple of quaternion coefficients to a spinor'''\n",
    "    q = args\n",
    "    return q[0] + q[1]*e13 +q[2]*e23 + q[3]*e12\n",
    "\n",
    "q1 = q2S(1,2,3,4)\n",
    "q1"
   ]
  },
  {
   "cell_type": "code",
   "execution_count": null,
   "metadata": {
    "collapsed": true
   },
   "outputs": [],
   "source": []
  }
 ],
 "metadata": {
  "kernelspec": {
   "display_name": "IPython (Python 2)",
   "language": "python",
   "name": "python2"
  },
  "language_info": {
   "codemirror_mode": {
    "name": "ipython",
    "version": 2
   },
   "file_extension": ".py",
   "mimetype": "text/x-python",
   "name": "python",
   "nbconvert_exporter": "python",
   "pygments_lexer": "ipython2",
   "version": "2.7.12"
  }
 },
 "nbformat": 4,
 "nbformat_minor": 0
}
