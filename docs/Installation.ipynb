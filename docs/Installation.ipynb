{
 "cells": [
  {
   "cell_type": "markdown",
   "metadata": {},
   "source": [
    "# Installation"
   ]
  },
  {
   "cell_type": "markdown",
   "metadata": {},
   "source": [
    "## conda \n",
    "\n",
    "The recommended way to install clifford is through the  anaconda python distribution. \n",
    "([get anaconda](https://www.anaconda.com/distribution/#download-section))\n",
    "\n",
    "Once you have anaconda installed you can install clifford from the conda-forge channel with the command, \n",
    "\n",
    "    conda install -c conda-forge clifford\n",
    "    \n",
    "If you dont want to install anaconda, then you can use either `pip` or `git`, as described below."
   ]
  },
  {
   "cell_type": "markdown",
   "metadata": {},
   "source": [
    "##  pip"
   ]
  },
  {
   "cell_type": "markdown",
   "metadata": {},
   "source": [
    "You can install clifford using `pip`\n",
    "    \n",
    "    pip install clifford"
   ]
  },
  {
   "cell_type": "markdown",
   "metadata": {},
   "source": [
    "##  git"
   ]
  },
  {
   "cell_type": "markdown",
   "metadata": {},
   "source": [
    "If you want the development version of `clifford` you can get the git repo. \n",
    "\n",
    "    https://github.com/arsenovic/clifford\n",
    "    \n",
    "Then install the standard way with \n",
    "\n",
    "    python setup.py install \n",
    "    \n",
    "or, if you intend to make changes to clifford, you may want to  install in *develop* mode with \n",
    "\n",
    "    python setup.py develop\n"
   ]
  }
 ],
 "metadata": {
  "kernelspec": {
   "display_name": "IPython (Python 2)",
   "language": "python",
   "name": "python2"
  },
  "language_info": {
   "name": "python",
   "version": "2.7.6"
  },
  "toc": {
   "nav_menu": {},
   "number_sections": true,
   "sideBar": true,
   "skip_h1_title": false,
   "toc_cell": false,
   "toc_position": {},
   "toc_section_display": "block",
   "toc_window_display": false
  }
 },
 "nbformat": 4,
 "nbformat_minor": 1
}
