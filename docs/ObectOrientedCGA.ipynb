{
 "cells": [
  {
   "cell_type": "markdown",
   "metadata": {},
   "source": [
    "# Object Oriented CGA "
   ]
  },
  {
   "cell_type": "markdown",
   "metadata": {},
   "source": [
    " This is a shelled out demo for a object-oriented approach to CGA with `clifford`.  The `CGA` object holds the original layout for an arbitrary geometric algebra , and the conformalized version. It provides up/down projections, as well as easy ways to generate objects and operators. "
   ]
  },
  {
   "cell_type": "markdown",
   "metadata": {},
   "source": [
    "## Quick Use Demo"
   ]
  },
  {
   "cell_type": "code",
   "execution_count": 1,
   "metadata": {},
   "outputs": [
    {
     "data": {
      "text/plain": [
       "Sphere"
      ]
     },
     "execution_count": 1,
     "metadata": {},
     "output_type": "execute_result"
    }
   ],
   "source": [
    "from clifford.cga import CGA, Round, Translation\n",
    "from clifford import Cl\n",
    "\n",
    "g3,blades = Cl(3)   \n",
    "\n",
    "cga = CGA(g3)  # make cga from existing ga\n",
    "# or \n",
    "cga = CGA(3)   # generate cga from dimension of 'base space'\n",
    "\n",
    "locals().update(cga.blades)        # put ga's blades in local namespace\n",
    "\n",
    "C = cga.round(e1,e2,e3,-e2)      # generate unit sphere from points \n",
    "C                           "
   ]
  },
  {
   "cell_type": "code",
   "execution_count": 2,
   "metadata": {},
   "outputs": [
    {
     "name": "stderr",
     "output_type": "stream",
     "text": [
      "/home/alex/code/clifford/clifford/__init__.py:1273: RuntimeWarning: divide by zero encountered in true_divide\n",
      "  newValue = self.value / other\n",
      "/home/alex/code/clifford/clifford/__init__.py:1273: RuntimeWarning: invalid value encountered in true_divide\n",
      "  newValue = self.value / other\n"
     ]
    },
    {
     "data": {
      "text/plain": [
       "1.0 + (0.5^e14) - (0.5^e15) + (0.5^e24) - (0.5^e25)"
      ]
     },
     "execution_count": 2,
     "metadata": {},
     "output_type": "execute_result"
    }
   ],
   "source": [
    "## Objects \n",
    "cga.round()              # from None \n",
    "cga.round(3)             # from dim of space\n",
    "cga.round(e1,e2,e3,-e2)  # from points\n",
    "cga.round(e1,e2,e3)      # from points\n",
    "cga.round(e1,e2)         # from points\n",
    "cga.round((e1,3))        # from center, radius\n",
    "cga.round(cga.round().mv)# from existing multivector\n",
    "\n",
    "cga.flat()               # from None \n",
    "cga.flat(2)              # from dim of space\n",
    "cga.flat(e1,e2)          # from points\n",
    "cga.flat(cga.flat().mv)  # from existing multivector\n",
    "\n",
    "\n",
    "## Operations\n",
    "cga.dilation()          # from from None \n",
    "cga.dilation(.4)        # from int\n",
    " \n",
    "cga.translation()       # from None \n",
    "cga.translation(e1+e2)  # from vector  \n",
    "cga.translation(cga.down(cga.null_vector()))\n",
    "\n",
    "cga.rotation()          # from None\n",
    "cga.rotation(e12+e23)   # from bivector \n",
    "\n",
    "cga.transversion(e1+e2).mv"
   ]
  },
  {
   "cell_type": "code",
   "execution_count": 3,
   "metadata": {},
   "outputs": [
    {
     "data": {
      "text/plain": [
       "(0.72209^e1234) - (1.08056^e1235) + (0.08964^e1245) + (0.30399^e1345) - (0.50335^e2345)"
      ]
     },
     "execution_count": 3,
     "metadata": {},
     "output_type": "execute_result"
    }
   ],
   "source": [
    "cga.round().inverted()"
   ]
  },
  {
   "cell_type": "code",
   "execution_count": 4,
   "metadata": {},
   "outputs": [
    {
     "data": {
      "text/plain": [
       "(5.0^e1)"
      ]
     },
     "execution_count": 4,
     "metadata": {},
     "output_type": "execute_result"
    }
   ],
   "source": [
    "D = cga.dilation(5)\n",
    "cga.down(D(e1))"
   ]
  },
  {
   "cell_type": "code",
   "execution_count": 5,
   "metadata": {},
   "outputs": [
    {
     "data": {
      "text/plain": [
       "(1.0^e1235)"
      ]
     },
     "execution_count": 5,
     "metadata": {},
     "output_type": "execute_result"
    }
   ],
   "source": [
    "C.mv # any CGA object/operator has a multivector"
   ]
  },
  {
   "cell_type": "code",
   "execution_count": 6,
   "metadata": {},
   "outputs": [
    {
     "data": {
      "text/plain": [
       "(0, 1.0)"
      ]
     },
     "execution_count": 6,
     "metadata": {},
     "output_type": "execute_result"
    }
   ],
   "source": [
    "C.center_down,C.radius # some properties of spheres"
   ]
  },
  {
   "cell_type": "code",
   "execution_count": 7,
   "metadata": {},
   "outputs": [
    {
     "data": {
      "text/plain": [
       "(1.0^e1) + (1.0^e2)"
      ]
     },
     "execution_count": 7,
     "metadata": {},
     "output_type": "execute_result"
    }
   ],
   "source": [
    "T = cga.translation(e1+e2) # make a translation \n",
    "C_ = T(C)                  # translate the sphere \n",
    "cga.down(C_.center)        # compute center again"
   ]
  },
  {
   "cell_type": "code",
   "execution_count": 8,
   "metadata": {},
   "outputs": [
    {
     "data": {
      "text/plain": [
       "Translation"
      ]
     },
     "execution_count": 8,
     "metadata": {},
     "output_type": "execute_result"
    }
   ],
   "source": [
    "cga.round()       #  no args == random sphere \n",
    "cga.translation() #             random translation "
   ]
  },
  {
   "cell_type": "code",
   "execution_count": 9,
   "metadata": {},
   "outputs": [
    {
     "name": "stdout",
     "output_type": "stream",
     "text": [
      "3\n"
     ]
    }
   ],
   "source": [
    "if 1 in map(int, [1,2]):\n",
    "    print(3)"
   ]
  },
  {
   "cell_type": "markdown",
   "metadata": {},
   "source": [
    "#  more details "
   ]
  },
  {
   "cell_type": "markdown",
   "metadata": {},
   "source": [
    "## Objects "
   ]
  },
  {
   "cell_type": "markdown",
   "metadata": {},
   "source": [
    "### Vectors "
   ]
  },
  {
   "cell_type": "code",
   "execution_count": 10,
   "metadata": {
    "code_folding": []
   },
   "outputs": [
    {
     "data": {
      "text/plain": [
       "-(0.93908^e1) + (1.73212^e2) + (1.54268^e3)"
      ]
     },
     "execution_count": 10,
     "metadata": {},
     "output_type": "execute_result"
    }
   ],
   "source": [
    "a = cga.base_vector()  # random vector with components in base space only\n",
    "a"
   ]
  },
  {
   "cell_type": "code",
   "execution_count": 11,
   "metadata": {},
   "outputs": [
    {
     "data": {
      "text/plain": [
       "-(0.93908^e1) + (1.73212^e2) + (1.54268^e3) + (2.63098^e4) + (3.63098^e5)"
      ]
     },
     "execution_count": 11,
     "metadata": {},
     "output_type": "execute_result"
    }
   ],
   "source": [
    "cga.up(a)"
   ]
  },
  {
   "cell_type": "code",
   "execution_count": 12,
   "metadata": {},
   "outputs": [
    {
     "data": {
      "text/plain": [
       "(0.18355^e1) + (0.81489^e2) + (0.99907^e3) + (0.34794^e4) + (1.34794^e5)"
      ]
     },
     "execution_count": 12,
     "metadata": {},
     "output_type": "execute_result"
    }
   ],
   "source": [
    "cga.null_vector()  # create null vector directly"
   ]
  },
  {
   "cell_type": "markdown",
   "metadata": {},
   "source": [
    "### Sphere (point pair, circles)"
   ]
  },
  {
   "cell_type": "code",
   "execution_count": 13,
   "metadata": {},
   "outputs": [
    {
     "data": {
      "text/plain": [
       "-(0.4029^e123) + (0.10852^e124) + (0.34933^e125) + (1.06406^e134) + (0.04849^e135) + (0.90952^e145) - (0.96742^e234) - (0.51341^e235) - (0.7005^e245) + (1.23949^e345)"
      ]
     },
     "execution_count": 13,
     "metadata": {},
     "output_type": "execute_result"
    }
   ],
   "source": [
    "C = cga.round(e1, e2, -e1, e3) # generates sphere from points\n",
    "C = cga.round(e1, e2, -e1)     # generates circle from points\n",
    "C = cga.round(e1, e2)          # generates point-pair from points\n",
    "#or \n",
    "C2 = cga.round(2)            # random 2-sphere  (sphere)\n",
    "C1 = cga.round(1)            # random 1-sphere, (circle)\n",
    "C0 = cga.round(0)            # random 0-sphere, (point pair)\n",
    "\n",
    "\n",
    "C1.mv                        # access the multivector"
   ]
  },
  {
   "cell_type": "code",
   "execution_count": 14,
   "metadata": {},
   "outputs": [
    {
     "data": {
      "text/plain": [
       "(-(1.0^e4) + (1.0^e5), 1.0)"
      ]
     },
     "execution_count": 14,
     "metadata": {},
     "output_type": "execute_result"
    }
   ],
   "source": [
    "C = cga.round(e1, e2, -e1, e3)\n",
    "C.center,C.radius        # spheres have properties"
   ]
  },
  {
   "cell_type": "code",
   "execution_count": 15,
   "metadata": {},
   "outputs": [
    {
     "data": {
      "text/plain": [
       "True"
      ]
     },
     "execution_count": 15,
     "metadata": {},
     "output_type": "execute_result"
    }
   ],
   "source": [
    "cga.down(C.center) == C.center_down "
   ]
  },
  {
   "cell_type": "code",
   "execution_count": 16,
   "metadata": {},
   "outputs": [
    {
     "data": {
      "text/plain": [
       "(-(2.0^e4) + (2.0^e5), 0.9999999999999999)"
      ]
     },
     "execution_count": 16,
     "metadata": {},
     "output_type": "execute_result"
    }
   ],
   "source": [
    "C_ = cga.round().from_center_radius(C.center,C.radius)\n",
    "C_.center,C_.radius"
   ]
  },
  {
   "cell_type": "markdown",
   "metadata": {},
   "source": [
    "### Operators"
   ]
  },
  {
   "cell_type": "code",
   "execution_count": 17,
   "metadata": {},
   "outputs": [
    {
     "data": {
      "text/plain": [
       "1.0 - (0.5^e14) - (0.5^e15)"
      ]
     },
     "execution_count": 17,
     "metadata": {},
     "output_type": "execute_result"
    }
   ],
   "source": [
    "T = cga.translation(e1) # generate translation \n",
    "T.mv "
   ]
  },
  {
   "cell_type": "code",
   "execution_count": 18,
   "metadata": {},
   "outputs": [
    {
     "data": {
      "text/plain": [
       "-(0.5^e124) + (0.5^e125) - (1.0^e245)"
      ]
     },
     "execution_count": 18,
     "metadata": {},
     "output_type": "execute_result"
    }
   ],
   "source": [
    "C = cga.round(e1, e2, -e1) \n",
    "T.mv*C.mv*~T.mv         # translate a sphere "
   ]
  },
  {
   "cell_type": "code",
   "execution_count": 19,
   "metadata": {},
   "outputs": [
    {
     "data": {
      "text/plain": [
       "Circle"
      ]
     },
     "execution_count": 19,
     "metadata": {},
     "output_type": "execute_result"
    }
   ],
   "source": [
    "T(C)                # shorthand call, same as above. returns type of arg"
   ]
  },
  {
   "cell_type": "code",
   "execution_count": 20,
   "metadata": {},
   "outputs": [
    {
     "data": {
      "text/plain": [
       "(2.0^e1) + (2.0^e5)"
      ]
     },
     "execution_count": 20,
     "metadata": {},
     "output_type": "execute_result"
    }
   ],
   "source": [
    "T(C).center   "
   ]
  },
  {
   "cell_type": "code",
   "execution_count": null,
   "metadata": {},
   "outputs": [],
   "source": []
  },
  {
   "cell_type": "code",
   "execution_count": null,
   "metadata": {},
   "outputs": [],
   "source": []
  }
 ],
 "metadata": {
  "kernelspec": {
   "display_name": "Python 3",
   "language": "python",
   "name": "python3"
  },
  "language_info": {
   "codemirror_mode": {
    "name": "ipython",
    "version": 3
   },
   "file_extension": ".py",
   "mimetype": "text/x-python",
   "name": "python",
   "nbconvert_exporter": "python",
   "pygments_lexer": "ipython3",
   "version": "3.7.3"
  },
  "toc": {
   "nav_menu": {},
   "number_sections": true,
   "sideBar": true,
   "skip_h1_title": false,
   "toc_cell": false,
   "toc_position": {},
   "toc_section_display": "block",
   "toc_window_display": false
  }
 },
 "nbformat": 4,
 "nbformat_minor": 2
}
